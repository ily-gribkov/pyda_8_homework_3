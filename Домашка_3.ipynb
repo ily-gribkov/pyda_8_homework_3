{
 "cells": [
  {
   "cell_type": "markdown",
   "metadata": {},
   "source": [
    "## Задание 1"
   ]
  },
  {
   "cell_type": "markdown",
   "metadata": {},
   "source": [
    "Дан список с визитами по городам и странам. \n",
    "Напишите код, который возвращает отфильтрованный список geo_logs, содержащий только визиты из России."
   ]
  },
  {
   "cell_type": "code",
   "execution_count": 1,
   "metadata": {},
   "outputs": [],
   "source": [
    "geo_logs = [\n",
    "    {'visit1': ['Москва', 'Россия']},\n",
    "    {'visit2': ['Дели', 'Индия']},\n",
    "    {'visit3': ['Владимир', 'Россия']},\n",
    "    {'visit4': ['Лиссабон', 'Португалия']},\n",
    "    {'visit5': ['Париж', 'Франция']},\n",
    "    {'visit6': ['Лиссабон', 'Португалия']},\n",
    "    {'visit7': ['Тула', 'Россия']},\n",
    "    {'visit8': ['Тула', 'Россия']},\n",
    "    {'visit9': ['Курск', 'Россия']},\n",
    "    {'visit10': ['Архангельск', 'Россия']}\n",
    "]"
   ]
  },
  {
   "cell_type": "code",
   "execution_count": 3,
   "metadata": {},
   "outputs": [],
   "source": [
    "visit = []\n",
    "for i in geo_logs:\n",
    "    if 'Россия' in i[list(i.keys())[0]]:visit.append(i)"
   ]
  },
  {
   "cell_type": "code",
   "execution_count": 5,
   "metadata": {},
   "outputs": [],
   "source": [
    "visit = []\n",
    "for i in geo_logs:\n",
    "    if 'Россия' in i[[*i][0]]:visit.append(i)\n"
   ]
  },
  {
   "cell_type": "code",
   "execution_count": 25,
   "metadata": {},
   "outputs": [
    {
     "data": {
      "text/plain": [
       "'visit10'"
      ]
     },
     "execution_count": 25,
     "metadata": {},
     "output_type": "execute_result"
    }
   ],
   "source": [
    "[*i][0]"
   ]
  },
  {
   "cell_type": "code",
   "execution_count": 27,
   "metadata": {},
   "outputs": [],
   "source": [
    "geo_logs = visit"
   ]
  },
  {
   "cell_type": "code",
   "execution_count": 19,
   "metadata": {},
   "outputs": [],
   "source": [
    "len_ = len(geo_logs)\n",
    "list_visits = [f'visit{i}' for i in range(1,len_+1)]"
   ]
  },
  {
   "cell_type": "markdown",
   "metadata": {},
   "source": [
    "## Задание 2"
   ]
  },
  {
   "cell_type": "markdown",
   "metadata": {},
   "source": [
    "Выведите на экран все уникальные гео-ID из значений словаря ids. Т. е. список вида [213, 15, 54, 119, 98, 35]"
   ]
  },
  {
   "cell_type": "code",
   "execution_count": 29,
   "metadata": {},
   "outputs": [],
   "source": [
    "ids = {'user1': [213, 213, 213, 15, 213], \n",
    "       'user2': [54, 54, 119, 119, 119], \n",
    "       'user3': [213, 98, 98, 35]}"
   ]
  },
  {
   "cell_type": "code",
   "execution_count": 30,
   "metadata": {},
   "outputs": [],
   "source": [
    "list_ = []\n",
    "for i in ids.values():\n",
    "    list_.extend(i)"
   ]
  },
  {
   "cell_type": "code",
   "execution_count": 35,
   "metadata": {},
   "outputs": [
    {
     "name": "stdout",
     "output_type": "stream",
     "text": [
      "{98, 35, 15, 213, 54, 119}\n"
     ]
    }
   ],
   "source": [
    "print(set(list_))"
   ]
  },
  {
   "cell_type": "code",
   "execution_count": 33,
   "metadata": {
    "scrolled": true
   },
   "outputs": [
    {
     "data": {
      "text/plain": [
       "[213, 213, 213, 15, 213, 54, 54, 119, 119, 119, 213, 98, 98, 35]"
      ]
     },
     "execution_count": 33,
     "metadata": {},
     "output_type": "execute_result"
    }
   ],
   "source": []
  },
  {
   "cell_type": "markdown",
   "metadata": {},
   "source": [
    "## Задание 3"
   ]
  },
  {
   "cell_type": "markdown",
   "metadata": {},
   "source": [
    "Дан список поисковых запросов. Получить распределение количества слов в них. \n",
    "Т. е. поисковых запросов из одного - слова 5%, из двух - 7%, из трех - 3% и т.д."
   ]
  },
  {
   "cell_type": "code",
   "execution_count": 38,
   "metadata": {},
   "outputs": [],
   "source": [
    "queries = [\n",
    "    'смотреть сериалы онлайн',\n",
    "    'новости спорта',\n",
    "    'афиша кино',\n",
    "    'курс доллара',\n",
    "    'сериалы этим летом',\n",
    "    'курс по питону',\n",
    "    'сериалы про спорт',\n",
    "]"
   ]
  },
  {
   "cell_type": "code",
   "execution_count": 42,
   "metadata": {},
   "outputs": [
    {
     "name": "stdout",
     "output_type": "stream",
     "text": [
      "['смотреть', 'сериалы', 'онлайн']\n",
      "['новости', 'спорта']\n",
      "['афиша', 'кино']\n",
      "['курс', 'доллара']\n",
      "['сериалы', 'этим', 'летом']\n",
      "['курс', 'по', 'питону']\n",
      "['сериалы', 'про', 'спорт']\n"
     ]
    }
   ],
   "source": [
    "list_1 = []\n",
    "list_2 = []\n",
    "list_3 = []\n",
    "for i in queries:\n",
    "    print(i.split())\n",
    "    if len(i.split()) == 1:\n",
    "        list_1.append(1)\n",
    "    elif len(i.split()) == 2:\n",
    "        list_2.append(1)\n",
    "    else:\n",
    "        list_3.append(1)"
   ]
  },
  {
   "cell_type": "code",
   "execution_count": 50,
   "metadata": {},
   "outputs": [
    {
     "name": "stdout",
     "output_type": "stream",
     "text": [
      "0%,\n",
      "43%,\n",
      "57%\n"
     ]
    }
   ],
   "source": [
    "print( f\"{round(sum(list_1) / len(queries)) * 100}%,\\n{round(sum(list_2) / len(queries) * 100)}%,\\n{round(sum(list_3) / len(queries) * 100)}%\")"
   ]
  },
  {
   "cell_type": "markdown",
   "metadata": {},
   "source": [
    "## Задание 4"
   ]
  },
  {
   "cell_type": "markdown",
   "metadata": {},
   "source": [
    "Дана статистика рекламных каналов по объемам продаж. Напишите скрипт, который возвращает название канала с максимальным объемом.\n",
    "Т. е. в данном примере скрипт должен возвращать 'yandex'."
   ]
  },
  {
   "cell_type": "code",
   "execution_count": 52,
   "metadata": {},
   "outputs": [],
   "source": [
    "stats = {'facebook': 55, 'yandex': 120, 'vk': 115, 'google': 99, 'email': 42, 'ok': 98}"
   ]
  },
  {
   "cell_type": "code",
   "execution_count": 58,
   "metadata": {},
   "outputs": [],
   "source": [
    "max = stats[[*stats][0]]\n",
    "max_key = [*stats][0]\n",
    "for i in stats:\n",
    "    if stats[i] > max:\n",
    "        max = stats[i]\n",
    "        max_key = i"
   ]
  },
  {
   "cell_type": "code",
   "execution_count": 57,
   "metadata": {},
   "outputs": [
    {
     "data": {
      "text/plain": [
       "'yandex'"
      ]
     },
     "execution_count": 57,
     "metadata": {},
     "output_type": "execute_result"
    }
   ],
   "source": [
    "max_key"
   ]
  },
  {
   "cell_type": "code",
   "execution_count": null,
   "metadata": {},
   "outputs": [],
   "source": []
  }
 ],
 "metadata": {
  "kernelspec": {
   "display_name": "Python 3",
   "language": "python",
   "name": "python3"
  },
  "language_info": {
   "codemirror_mode": {
    "name": "ipython",
    "version": 3
   },
   "file_extension": ".py",
   "mimetype": "text/x-python",
   "name": "python",
   "nbconvert_exporter": "python",
   "pygments_lexer": "ipython3",
   "version": "3.7.4"
  }
 },
 "nbformat": 4,
 "nbformat_minor": 2
}
